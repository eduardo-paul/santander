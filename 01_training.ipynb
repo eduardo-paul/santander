{
 "cells": [
  {
   "cell_type": "markdown",
   "metadata": {},
   "source": [
    "# Treinamento.\n",
    "Como vimos na análise exploratória, uma árvore de decisão que considere apenas uma variável e tenha uma profundidade (parâmetro \"max_depth\") de dois níveis já é capaz de alcançar resultados razoáveis. Neste documento vamos treinar árvores de decisão com várias profundidades e que se utilizem de todas as variáveis disponíveis no conjunto de dados, com exceção das que apresentam variância nula. A expectativa é encontrar uma árvore de decisão simples que otimize a sensibilidade das previsões."
   ]
  },
  {
   "cell_type": "code",
   "execution_count": 1,
   "metadata": {},
   "outputs": [
    {
     "data": {
      "text/plain": [
       "GridSearchCV(estimator=Pipeline(steps=[('var', VarianceThreshold()),\n",
       "                                       ('tree',\n",
       "                                        DecisionTreeClassifier(class_weight='balanced'))]),\n",
       "             n_jobs=-1, param_grid={'tree__max_depth': range(2, 10)},\n",
       "             refit='roc_auc',\n",
       "             scoring={'roc_auc': make_scorer(roc_auc_score),\n",
       "                      'sensitivity': make_scorer(recall_score),\n",
       "                      'specificity': make_scorer(specificity_score)})"
      ]
     },
     "execution_count": 1,
     "metadata": {},
     "output_type": "execute_result"
    }
   ],
   "source": [
    "from pickle import dump\n",
    "import pandas as pd\n",
    "from sklearn.feature_selection import VarianceThreshold\n",
    "from sklearn.metrics import roc_auc_score\n",
    "from sklearn.metrics import make_scorer\n",
    "from sklearn.metrics import recall_score\n",
    "from sklearn.model_selection import GridSearchCV\n",
    "from sklearn.pipeline import Pipeline\n",
    "from sklearn.tree import DecisionTreeClassifier\n",
    "import eda_tools\n",
    "\n",
    "data = pd.read_csv(\"./data/train.csv\")\n",
    "data.columns = data.columns.str.lower()\n",
    "\n",
    "X = data.drop(columns=[\"id\", \"target\"])\n",
    "y = data[\"target\"]\n",
    "\n",
    "pipeline = Pipeline(\n",
    "    [\n",
    "        (\"var\", VarianceThreshold()),\n",
    "        (\"tree\", DecisionTreeClassifier(class_weight=\"balanced\")),\n",
    "    ]\n",
    ")\n",
    "\n",
    "param_grid = {\n",
    "    \"tree__max_depth\": range(2, 10),\n",
    "}\n",
    "\n",
    "scoring = {\n",
    "    \"sensitivity\": make_scorer(recall_score),\n",
    "    \"specificity\": make_scorer(eda_tools.specificity_score),\n",
    "    \"roc_auc\": make_scorer(roc_auc_score),\n",
    "}\n",
    "\n",
    "grid_search = GridSearchCV(\n",
    "    pipeline,\n",
    "    param_grid=param_grid,\n",
    "    scoring=scoring,\n",
    "    n_jobs=-1,\n",
    "    refit=\"roc_auc\",\n",
    ")\n",
    "\n",
    "grid_search.fit(X, y)\n"
   ]
  },
  {
   "cell_type": "markdown",
   "metadata": {},
   "source": [
    "Os resultados mostram que com uma simples árvore de decisão já somos capazes de alcançar uma área sob a curva ROC de 0,76, com sensibilidade e especificidade comparáveis."
   ]
  },
  {
   "cell_type": "code",
   "execution_count": 2,
   "metadata": {
    "tags": []
   },
   "outputs": [
    {
     "name": "stdout",
     "output_type": "stream",
     "text": [
      "Melhor árvore encontrada:\n"
     ]
    },
    {
     "data": {
      "text/plain": [
       "params                   {'tree__max_depth': 5}\n",
       "mean_test_sensitivity                  0.755643\n",
       "mean_test_specificity                  0.757821\n",
       "mean_test_roc_auc                      0.756732\n",
       "Name: 3, dtype: object"
      ]
     },
     "execution_count": 2,
     "metadata": {},
     "output_type": "execute_result"
    }
   ],
   "source": [
    "results = pd.DataFrame(grid_search.cv_results_).sort_values(by=\"rank_test_roc_auc\")\n",
    "\n",
    "print(\"Melhor árvore encontrada:\")\n",
    "results[\n",
    "    [\"params\", \"mean_test_sensitivity\", \"mean_test_specificity\", \"mean_test_roc_auc\"]\n",
    "].iloc[0, :]\n"
   ]
  },
  {
   "cell_type": "markdown",
   "metadata": {},
   "source": [
    "A estrutura da árvore de decisão é um pouco grande demais para ser visualizada de maneira conveniente. Apesar disso, analisando a importância das variáveis segundo a árvore, vemos que de fato as variáveis \"var15\" (que associamos à idade) e \"saldo_var30\" são de longe as mais relevantes para a classificação dos clientes."
   ]
  },
  {
   "cell_type": "code",
   "execution_count": 3,
   "metadata": {},
   "outputs": [
    {
     "data": {
      "text/html": [
       "<div>\n",
       "<style scoped>\n",
       "    .dataframe tbody tr th:only-of-type {\n",
       "        vertical-align: middle;\n",
       "    }\n",
       "\n",
       "    .dataframe tbody tr th {\n",
       "        vertical-align: top;\n",
       "    }\n",
       "\n",
       "    .dataframe thead th {\n",
       "        text-align: right;\n",
       "    }\n",
       "</style>\n",
       "<table border=\"1\" class=\"dataframe\">\n",
       "  <thead>\n",
       "    <tr style=\"text-align: right;\">\n",
       "      <th></th>\n",
       "      <th>importance</th>\n",
       "      <th>feature</th>\n",
       "    </tr>\n",
       "  </thead>\n",
       "  <tbody>\n",
       "    <tr>\n",
       "      <th>0</th>\n",
       "      <td>0.468079</td>\n",
       "      <td>var15</td>\n",
       "    </tr>\n",
       "    <tr>\n",
       "      <th>1</th>\n",
       "      <td>0.303962</td>\n",
       "      <td>saldo_var30</td>\n",
       "    </tr>\n",
       "    <tr>\n",
       "      <th>2</th>\n",
       "      <td>0.064634</td>\n",
       "      <td>saldo_var5</td>\n",
       "    </tr>\n",
       "    <tr>\n",
       "      <th>3</th>\n",
       "      <td>0.053460</td>\n",
       "      <td>saldo_medio_var5_hace2</td>\n",
       "    </tr>\n",
       "    <tr>\n",
       "      <th>4</th>\n",
       "      <td>0.031578</td>\n",
       "      <td>var38</td>\n",
       "    </tr>\n",
       "    <tr>\n",
       "      <th>5</th>\n",
       "      <td>0.014995</td>\n",
       "      <td>imp_op_var41_efect_ult1</td>\n",
       "    </tr>\n",
       "    <tr>\n",
       "      <th>6</th>\n",
       "      <td>0.011111</td>\n",
       "      <td>imp_op_var39_ult1</td>\n",
       "    </tr>\n",
       "    <tr>\n",
       "      <th>7</th>\n",
       "      <td>0.008575</td>\n",
       "      <td>num_var45_hace3</td>\n",
       "    </tr>\n",
       "    <tr>\n",
       "      <th>8</th>\n",
       "      <td>0.006796</td>\n",
       "      <td>saldo_medio_var5_ult1</td>\n",
       "    </tr>\n",
       "    <tr>\n",
       "      <th>9</th>\n",
       "      <td>0.006404</td>\n",
       "      <td>num_var22_ult3</td>\n",
       "    </tr>\n",
       "    <tr>\n",
       "      <th>10</th>\n",
       "      <td>0.005821</td>\n",
       "      <td>num_var42_0</td>\n",
       "    </tr>\n",
       "    <tr>\n",
       "      <th>11</th>\n",
       "      <td>0.005491</td>\n",
       "      <td>num_var22_ult1</td>\n",
       "    </tr>\n",
       "    <tr>\n",
       "      <th>12</th>\n",
       "      <td>0.005405</td>\n",
       "      <td>ind_var30_0</td>\n",
       "    </tr>\n",
       "    <tr>\n",
       "      <th>13</th>\n",
       "      <td>0.003725</td>\n",
       "      <td>num_med_var45_ult3</td>\n",
       "    </tr>\n",
       "    <tr>\n",
       "      <th>14</th>\n",
       "      <td>0.003713</td>\n",
       "      <td>imp_var43_emit_ult1</td>\n",
       "    </tr>\n",
       "    <tr>\n",
       "      <th>15</th>\n",
       "      <td>0.002386</td>\n",
       "      <td>num_var22_hace2</td>\n",
       "    </tr>\n",
       "    <tr>\n",
       "      <th>16</th>\n",
       "      <td>0.001600</td>\n",
       "      <td>saldo_var26</td>\n",
       "    </tr>\n",
       "    <tr>\n",
       "      <th>17</th>\n",
       "      <td>0.001142</td>\n",
       "      <td>num_med_var22_ult3</td>\n",
       "    </tr>\n",
       "    <tr>\n",
       "      <th>18</th>\n",
       "      <td>0.001122</td>\n",
       "      <td>num_meses_var39_vig_ult3</td>\n",
       "    </tr>\n",
       "  </tbody>\n",
       "</table>\n",
       "</div>"
      ],
      "text/plain": [
       "    importance                   feature\n",
       "0     0.468079                     var15\n",
       "1     0.303962               saldo_var30\n",
       "2     0.064634                saldo_var5\n",
       "3     0.053460    saldo_medio_var5_hace2\n",
       "4     0.031578                     var38\n",
       "5     0.014995   imp_op_var41_efect_ult1\n",
       "6     0.011111         imp_op_var39_ult1\n",
       "7     0.008575           num_var45_hace3\n",
       "8     0.006796     saldo_medio_var5_ult1\n",
       "9     0.006404            num_var22_ult3\n",
       "10    0.005821               num_var42_0\n",
       "11    0.005491            num_var22_ult1\n",
       "12    0.005405               ind_var30_0\n",
       "13    0.003725        num_med_var45_ult3\n",
       "14    0.003713       imp_var43_emit_ult1\n",
       "15    0.002386           num_var22_hace2\n",
       "16    0.001600               saldo_var26\n",
       "17    0.001142        num_med_var22_ult3\n",
       "18    0.001122  num_meses_var39_vig_ult3"
      ]
     },
     "execution_count": 3,
     "metadata": {},
     "output_type": "execute_result"
    }
   ],
   "source": [
    "tree = grid_search.best_estimator_.named_steps[\"tree\"]\n",
    "selector = grid_search.best_estimator_.named_steps[\"var\"]\n",
    "X_cols = X.columns[selector.get_support()]\n",
    "\n",
    "feature_importances = pd.DataFrame(\n",
    "    {\"importance\": tree.feature_importances_, \"feature\": X_cols}\n",
    ").sort_values(by=\"importance\", ascending=False, ignore_index=True)\n",
    "\n",
    "feature_importances = feature_importances[feature_importances[\"importance\"] != 0]\n",
    "\n",
    "feature_importances\n"
   ]
  },
  {
   "cell_type": "markdown",
   "metadata": {},
   "source": [
    "Enviando o arquivo com as previsões para o Kaggle, a área sob a curva ROC no conjunto de teste foi de 0,74747. Esse resultado está dentro da meta estabelecidade no início deste projeto, de forma que ele pode ser considerado um sucesso."
   ]
  },
  {
   "cell_type": "code",
   "execution_count": 4,
   "metadata": {},
   "outputs": [],
   "source": [
    "test_data = pd.read_csv(\"./data/test.csv\")\n",
    "\n",
    "X_test = test_data.drop(columns=[\"ID\"])\n",
    "\n",
    "predictions = grid_search.best_estimator_.predict(X_test)\n",
    "\n",
    "submission = pd.concat([test_data[\"ID\"], pd.Series(predictions, name=\"TARGET\")], axis=1)\n",
    "\n",
    "submission.to_csv(\n",
    "    \"submission.csv\",\n",
    "    index=False,\n",
    ")\n"
   ]
  },
  {
   "cell_type": "markdown",
   "metadata": {},
   "source": [
    "Serializando o modelo para uso futuro sem a necessidade de recalculá-lo."
   ]
  },
  {
   "cell_type": "code",
   "execution_count": 5,
   "metadata": {},
   "outputs": [],
   "source": [
    "with open(\"modelo_treinado.pkl\", \"wb\") as file:\n",
    "    dump(tree, file)\n"
   ]
  }
 ],
 "metadata": {
  "kernelspec": {
   "display_name": "Python 3",
   "language": "python",
   "name": "python3"
  },
  "language_info": {
   "codemirror_mode": {
    "name": "ipython",
    "version": 3
   },
   "file_extension": ".py",
   "mimetype": "text/x-python",
   "name": "python",
   "nbconvert_exporter": "python",
   "pygments_lexer": "ipython3",
   "version": "3.8.5"
  }
 },
 "nbformat": 4,
 "nbformat_minor": 2
}
